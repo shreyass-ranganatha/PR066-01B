{
 "cells": [
  {
   "cell_type": "code",
   "execution_count": 95,
   "metadata": {},
   "outputs": [],
   "source": [
    "import dlib\n",
    "import matplotlib.pyplot as pt\n",
    "\n",
    "paths = [\n",
    "    \"../test-dir/2.jpeg\",\n",
    "    \"../test-dir/a/1.jpeg\",\n",
    "    \"../test-dir/b/c/3.jpeg\"\n",
    "]"
   ]
  },
  {
   "cell_type": "code",
   "execution_count": 96,
   "metadata": {},
   "outputs": [],
   "source": [
    "def file_to_vectors(f):\n",
    "    m1 = dlib.load_rgb_image(f)\n",
    "\n",
    "    d1 = dlib.get_frontal_face_detector()\n",
    "    d2 = dlib.shape_predictor(\"../models/shape_predictor_5_face_landmarks.dat\")\n",
    "    d3 = dlib.face_recognition_model_v1(\"../models/dlib_face_recognition_resnet_model_v1.dat\")\n",
    "\n",
    "    rects = d1(m1, 1)\n",
    "    rs = []\n",
    "\n",
    "    for r in rects:\n",
    "        rs.append((r, d3.compute_face_descriptor(m1, d2(m1, r))))\n",
    "    return rs"
   ]
  },
  {
   "cell_type": "code",
   "execution_count": 97,
   "metadata": {},
   "outputs": [
    {
     "name": "stdout",
     "output_type": "stream",
     "text": [
      "../test-dir/2.jpeg\n",
      "4 faces\n",
      "\n",
      "../test-dir/a/1.jpeg\n",
      "7 faces\n",
      "\n",
      "../test-dir/b/c/3.jpeg\n",
      "7 faces\n",
      "\n"
     ]
    }
   ],
   "source": [
    "ys = []\n",
    "\n",
    "for p in paths:\n",
    "    ys.append((p, file_to_vectors(p)))\n",
    "\n",
    "for p, y in ys:\n",
    "    print(p)\n",
    "    print(f\"{len(y)} faces\\n\")\n",
    "    # print(*[repr(_) for r, _ in y], '', sep='\\n')"
   ]
  },
  {
   "cell_type": "code",
   "execution_count": 98,
   "metadata": {},
   "outputs": [],
   "source": [
    "X = []\n",
    "R = []\n",
    "P = []\n",
    "\n",
    "for p, y in ys:\n",
    "    for r, x in y:\n",
    "        X.append(x)\n",
    "        R.append(r)\n",
    "        P.append(p)\n"
   ]
  },
  {
   "cell_type": "code",
   "execution_count": 99,
   "metadata": {},
   "outputs": [
    {
     "data": {
      "text/plain": [
       "[0, 1, 2, 3, 0, 4, 3, 1, 2, 1, 5, 6, 7, 1, 8, 9, 0, 2]"
      ]
     },
     "execution_count": 99,
     "metadata": {},
     "output_type": "execute_result"
    }
   ],
   "source": [
    "labels = dlib.chinese_whispers_clustering(X, 0.5)\n",
    "labels"
   ]
  },
  {
   "cell_type": "code",
   "execution_count": 100,
   "metadata": {},
   "outputs": [],
   "source": [
    "dt = {}\n",
    "\n",
    "for i, (x, r, p) in enumerate(zip(labels, R, P)):\n",
    "    if x not in dt:\n",
    "        dt[x] = []\n",
    "\n",
    "    m = dlib.load_rgb_image(p)\n",
    "\n",
    "    p1, p2 = r.tl_corner(), r.br_corner()\n",
    "    dt[x].append(m[p1.y:p2.y, p1.x:p2.x, :])\n"
   ]
  },
  {
   "cell_type": "code",
   "execution_count": 101,
   "metadata": {},
   "outputs": [],
   "source": [
    "import os\n",
    "import cv2\n",
    "\n",
    "for k in dt:\n",
    "    dpath = f\"face-outputs/{k}\"\n",
    "    os.makedirs(dpath, exist_ok=True)\n",
    "\n",
    "    for j, m in enumerate(dt[k]):\n",
    "        cv2.imwrite(os.path.join(dpath, f\"{j}.png\"), m[:,:,[2,1,0]])\n"
   ]
  }
 ],
 "metadata": {
  "kernelspec": {
   "display_name": ".venv",
   "language": "python",
   "name": "python3"
  },
  "language_info": {
   "codemirror_mode": {
    "name": "ipython",
    "version": 3
   },
   "file_extension": ".py",
   "mimetype": "text/x-python",
   "name": "python",
   "nbconvert_exporter": "python",
   "pygments_lexer": "ipython3",
   "version": "3.10.0"
  }
 },
 "nbformat": 4,
 "nbformat_minor": 2
}
